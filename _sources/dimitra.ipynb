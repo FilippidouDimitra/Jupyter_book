{
 "cells": [
  {
   "cell_type": "code",
   "execution_count": null,
   "metadata": {},
   "outputs": [],
   "source": [
    "print(\"this is Dimitra!\")"
   ]
  }
 ],
 "metadata": {
  "kernelspec": {
   "display_name": "Python 3.9.12 ('env': venv)",
   "language": "python",
   "name": "python3"
  },
  "language_info": {
   "name": "python",
   "version": "3.9.12"
  },
  "orig_nbformat": 4,
  "vscode": {
   "interpreter": {
    "hash": "6229731d4a83dfe25195680777093e567d677f87b64386af79e31e985aa34967"
   }
  }
 },
 "nbformat": 4,
 "nbformat_minor": 2
}
